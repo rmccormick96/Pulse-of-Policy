{
 "cells": [
  {
   "cell_type": "code",
   "execution_count": 4,
   "metadata": {},
   "outputs": [],
   "source": [
    "import requests\n",
    "import json\n",
    "import pandas as pd\n",
    "import time\n",
    "\n",
    "from selenium import webdriver\n",
    "from selenium.webdriver.chrome.service import Service"
   ]
  },
  {
   "cell_type": "code",
   "execution_count": 5,
   "metadata": {},
   "outputs": [],
   "source": [
    "def fetch_all_bills_for_session(congress, chamber, bill_type, api_key, offset, actual_total, bills):\n",
    "        \n",
    "    url = f'https://api.propublica.org/congress/v1/{congress}/{chamber}/bills/{bill_type}.json?offset={offset}'\n",
    "    headers = {'X-API-Key': api_key}\n",
    "    response = requests.get(url, headers=headers)\n",
    "    if response.status_code == 200:\n",
    "        data = response.json()\n",
    "        fetched_bills = data['results'][0]['bills']\n",
    "        bills.extend(fetched_bills)\n",
    "        offset += len(fetched_bills)\n",
    "        file_name = f\"/data/pro_bills_{congress}/{congress}th_congress_house_bills_{offset}.json\"\n",
    "        with open(file_name, \"w\") as file:\n",
    "            json.dump(bills, file)\n",
    "    else:\n",
    "        print(f\"Failed to fetch bills data, current offset {offset} out of {actual_total}\")\n",
    "\n",
    "    return bills, offset, bills"
   ]
  },
  {
   "cell_type": "code",
   "execution_count": 6,
   "metadata": {},
   "outputs": [
    {
     "ename": "SyntaxError",
     "evalue": "invalid syntax (2006692351.py, line 1)",
     "output_type": "error",
     "traceback": [
      "\u001b[0;36m  Cell \u001b[0;32mIn[6], line 1\u001b[0;36m\u001b[0m\n\u001b[0;31m    api_key = # Use your actual API key\u001b[0m\n\u001b[0m              ^\u001b[0m\n\u001b[0;31mSyntaxError\u001b[0m\u001b[0;31m:\u001b[0m invalid syntax\n"
     ]
    }
   ],
   "source": [
    "api_key = # Use your actual API key\n",
    "congress = '115' # Congress session\n",
    "chamber = 'house' # 'house' or 'senate'\n",
    "bill_type = 'introduced' # Type of bills\n",
    "bills = []\n",
    "offset = 0\n",
    "actual_total = 13539\n",
    "\n",
    "while offset < actual_total:\n",
    "\n",
    "    bills_data_115, offset, bills = fetch_all_bills_for_session(congress, \n",
    "                                                                chamber, \n",
    "                                                                bill_type, \n",
    "                                                                api_key, \n",
    "                                                                offset, \n",
    "                                                                actual_total, \n",
    "                                                                bills\n",
    "                                                                )\n",
    "if bills_data_115:\n",
    "    print(f\"Retrieved {len(bills_data_115)} bills from the {congress}th Congress.\")\n",
    "    file_name = \"data/115th_congress_house_bills.json\"\n",
    "    with open(file_name, \"w\") as file:\n",
    "        json.dump(bills_data_115, file)\n",
    "else:\n",
    "    print(\"Failed to fetch bills data.\")"
   ]
  },
  {
   "cell_type": "code",
   "execution_count": null,
   "metadata": {},
   "outputs": [],
   "source": [
    "api_key =  # Use your actual API key\n",
    "congress = '116'  # Congress session\n",
    "chamber = 'house'  # 'house' or 'senate'\n",
    "bill_type = 'introduced'  # Type of bills\n",
    "bills = []\n",
    "offset = 0\n",
    "actual_total = 16559\n",
    "\n",
    "while offset < actual_total:\n",
    "\n",
    "    bills_data_116, offset, bills = fetch_all_bills_for_session(congress, \n",
    "                                                                chamber, \n",
    "                                                                bill_type, \n",
    "                                                                api_key, \n",
    "                                                                offset, \n",
    "                                                                actual_total, \n",
    "                                                                bills\n",
    "                                                                )\n",
    "if bills_data_116:\n",
    "    print(f\"Retrieved {len(bills_data_116)} bills from the {congress}th Congress.\")\n",
    "    file_name = \"data/116th_congress_house_bills.json\"\n",
    "    with open(file_name, \"w\") as file:\n",
    "        json.dump(bills_data_116, file)\n",
    "else:\n",
    "    print(\"Failed to fetch bills data.\")"
   ]
  },
  {
   "cell_type": "code",
   "execution_count": null,
   "metadata": {},
   "outputs": [],
   "source": [
    "api_key = # Use your actual API key\n",
    "congress = '117'  # Congress session\n",
    "chamber = 'house'  # 'house' or 'senate'\n",
    "bill_type = 'introduced'  # Type of bills\n",
    "bills = []\n",
    "offset = 0\n",
    "actual_total = 17810\n",
    "\n",
    "while offset < actual_total:\n",
    "    \n",
    "    bills_data_117, offset, bills = fetch_all_bills_for_session(congress, \n",
    "                                                                chamber, \n",
    "                                                                bill_type, \n",
    "                                                                api_key, \n",
    "                                                                offset, \n",
    "                                                                actual_total, \n",
    "                                                                bills\n",
    "                                                                )\n",
    "if bills_data_117:\n",
    "    print(f\"Retrieved {len(bills_data_117)} bills from the {congress}th Congress.\")\n",
    "    file_name = \"data/117th_congress_house_bills.json\"\n",
    "    with open(file_name, \"w\") as file:\n",
    "        json.dump(bills_data_117, file)\n",
    "else:\n",
    "    print(\"Failed to fetch bills data.\")"
   ]
  },
  {
   "cell_type": "code",
   "execution_count": null,
   "metadata": {},
   "outputs": [],
   "source": [
    "api_key = # Use your actual API key\n",
    "congress = '118'  # Congress session\n",
    "chamber = 'house'  # 'house' or 'senate'\n",
    "bill_type = 'introduced'  # Type of bills\n",
    "bills = []\n",
    "offset = 0\n",
    "actual_total = 13000\n",
    "\n",
    "while offset < actual_total:\n",
    "\n",
    "    bills_data_118, offset, bills = fetch_all_bills_for_session(congress, \n",
    "                                                                chamber, \n",
    "                                                                bill_type, \n",
    "                                                                api_key, \n",
    "                                                                offset, \n",
    "                                                                actual_total, \n",
    "                                                                bills\n",
    "                                                                )\n",
    "if bills_data_118:\n",
    "    print(f\"Retrieved {len(bills_data_118)} bills from the {congress}th Congress.\")\n",
    "    file_name = \"data/118th_congress_house_bills.json\"\n",
    "    with open(file_name, \"w\") as file:\n",
    "        json.dump(bills_data_118, file)\n",
    "else:\n",
    "    print(\"Failed to fetch bills data.\")"
   ]
  },
  {
   "cell_type": "code",
   "execution_count": 7,
   "metadata": {},
   "outputs": [
    {
     "ename": "NoSuchDriverException",
     "evalue": "Message: Unable to locate or obtain driver for chrome; For documentation on this error, please visit: https://www.selenium.dev/documentation/webdriver/troubleshooting/errors/driver_location\n",
     "output_type": "error",
     "traceback": [
      "\u001b[0;31m---------------------------------------------------------------------------\u001b[0m",
      "\u001b[0;31mNoSuchDriverException\u001b[0m                     Traceback (most recent call last)",
      "Cell \u001b[0;32mIn[7], line 2\u001b[0m\n\u001b[1;32m      1\u001b[0m service \u001b[38;5;241m=\u001b[39m Service(\u001b[38;5;124m'\u001b[39m\u001b[38;5;124m/opt/homebrew/bin/chromedriver\u001b[39m\u001b[38;5;124m'\u001b[39m)\n\u001b[0;32m----> 2\u001b[0m driver \u001b[38;5;241m=\u001b[39m \u001b[43mwebdriver\u001b[49m\u001b[38;5;241;43m.\u001b[39;49m\u001b[43mChrome\u001b[49m\u001b[43m(\u001b[49m\u001b[43mservice\u001b[49m\u001b[38;5;241;43m=\u001b[39;49m\u001b[43mservice\u001b[49m\u001b[43m)\u001b[49m\n\u001b[1;32m      3\u001b[0m driver\u001b[38;5;241m.\u001b[39mget(\u001b[38;5;124m'\u001b[39m\u001b[38;5;124mhttps://www.congress.gov/bill/117th-congress/house-bill/9704/text?format=txt\u001b[39m\u001b[38;5;124m'\u001b[39m)\n\u001b[1;32m      5\u001b[0m bill_text_container \u001b[38;5;241m=\u001b[39m driver\u001b[38;5;241m.\u001b[39mfind_element(\u001b[38;5;124m\"\u001b[39m\u001b[38;5;124mid\u001b[39m\u001b[38;5;124m\"\u001b[39m, \u001b[38;5;124m\"\u001b[39m\u001b[38;5;124mbillTextContainer\u001b[39m\u001b[38;5;124m\"\u001b[39m)\n",
      "File \u001b[0;32m~/adv_ml/lib/python3.11/site-packages/selenium/webdriver/chrome/webdriver.py:45\u001b[0m, in \u001b[0;36mWebDriver.__init__\u001b[0;34m(self, options, service, keep_alive)\u001b[0m\n\u001b[1;32m     42\u001b[0m service \u001b[38;5;241m=\u001b[39m service \u001b[38;5;28;01mif\u001b[39;00m service \u001b[38;5;28;01melse\u001b[39;00m Service()\n\u001b[1;32m     43\u001b[0m options \u001b[38;5;241m=\u001b[39m options \u001b[38;5;28;01mif\u001b[39;00m options \u001b[38;5;28;01melse\u001b[39;00m Options()\n\u001b[0;32m---> 45\u001b[0m \u001b[38;5;28;43msuper\u001b[39;49m\u001b[43m(\u001b[49m\u001b[43m)\u001b[49m\u001b[38;5;241;43m.\u001b[39;49m\u001b[38;5;21;43m__init__\u001b[39;49m\u001b[43m(\u001b[49m\n\u001b[1;32m     46\u001b[0m \u001b[43m    \u001b[49m\u001b[43mbrowser_name\u001b[49m\u001b[38;5;241;43m=\u001b[39;49m\u001b[43mDesiredCapabilities\u001b[49m\u001b[38;5;241;43m.\u001b[39;49m\u001b[43mCHROME\u001b[49m\u001b[43m[\u001b[49m\u001b[38;5;124;43m\"\u001b[39;49m\u001b[38;5;124;43mbrowserName\u001b[39;49m\u001b[38;5;124;43m\"\u001b[39;49m\u001b[43m]\u001b[49m\u001b[43m,\u001b[49m\n\u001b[1;32m     47\u001b[0m \u001b[43m    \u001b[49m\u001b[43mvendor_prefix\u001b[49m\u001b[38;5;241;43m=\u001b[39;49m\u001b[38;5;124;43m\"\u001b[39;49m\u001b[38;5;124;43mgoog\u001b[39;49m\u001b[38;5;124;43m\"\u001b[39;49m\u001b[43m,\u001b[49m\n\u001b[1;32m     48\u001b[0m \u001b[43m    \u001b[49m\u001b[43moptions\u001b[49m\u001b[38;5;241;43m=\u001b[39;49m\u001b[43moptions\u001b[49m\u001b[43m,\u001b[49m\n\u001b[1;32m     49\u001b[0m \u001b[43m    \u001b[49m\u001b[43mservice\u001b[49m\u001b[38;5;241;43m=\u001b[39;49m\u001b[43mservice\u001b[49m\u001b[43m,\u001b[49m\n\u001b[1;32m     50\u001b[0m \u001b[43m    \u001b[49m\u001b[43mkeep_alive\u001b[49m\u001b[38;5;241;43m=\u001b[39;49m\u001b[43mkeep_alive\u001b[49m\u001b[43m,\u001b[49m\n\u001b[1;32m     51\u001b[0m \u001b[43m\u001b[49m\u001b[43m)\u001b[49m\n",
      "File \u001b[0;32m~/adv_ml/lib/python3.11/site-packages/selenium/webdriver/chromium/webdriver.py:49\u001b[0m, in \u001b[0;36mChromiumDriver.__init__\u001b[0;34m(self, browser_name, vendor_prefix, options, service, keep_alive)\u001b[0m\n\u001b[1;32m     37\u001b[0m \u001b[38;5;250m\u001b[39m\u001b[38;5;124;03m\"\"\"Creates a new WebDriver instance of the ChromiumDriver. Starts the\u001b[39;00m\n\u001b[1;32m     38\u001b[0m \u001b[38;5;124;03mservice and then creates new WebDriver instance of ChromiumDriver.\u001b[39;00m\n\u001b[1;32m     39\u001b[0m \n\u001b[0;32m   (...)\u001b[0m\n\u001b[1;32m     45\u001b[0m \u001b[38;5;124;03m - keep_alive - Whether to configure ChromiumRemoteConnection to use HTTP keep-alive.\u001b[39;00m\n\u001b[1;32m     46\u001b[0m \u001b[38;5;124;03m\"\"\"\u001b[39;00m\n\u001b[1;32m     47\u001b[0m \u001b[38;5;28mself\u001b[39m\u001b[38;5;241m.\u001b[39mservice \u001b[38;5;241m=\u001b[39m service\n\u001b[0;32m---> 49\u001b[0m \u001b[38;5;28mself\u001b[39m\u001b[38;5;241m.\u001b[39mservice\u001b[38;5;241m.\u001b[39mpath \u001b[38;5;241m=\u001b[39m \u001b[43mDriverFinder\u001b[49m\u001b[38;5;241;43m.\u001b[39;49m\u001b[43mget_path\u001b[49m\u001b[43m(\u001b[49m\u001b[38;5;28;43mself\u001b[39;49m\u001b[38;5;241;43m.\u001b[39;49m\u001b[43mservice\u001b[49m\u001b[43m,\u001b[49m\u001b[43m \u001b[49m\u001b[43moptions\u001b[49m\u001b[43m)\u001b[49m\n\u001b[1;32m     50\u001b[0m \u001b[38;5;28mself\u001b[39m\u001b[38;5;241m.\u001b[39mservice\u001b[38;5;241m.\u001b[39mstart()\n\u001b[1;32m     52\u001b[0m executor \u001b[38;5;241m=\u001b[39m ChromiumRemoteConnection(\n\u001b[1;32m     53\u001b[0m     remote_server_addr\u001b[38;5;241m=\u001b[39m\u001b[38;5;28mself\u001b[39m\u001b[38;5;241m.\u001b[39mservice\u001b[38;5;241m.\u001b[39mservice_url,\n\u001b[1;32m     54\u001b[0m     browser_name\u001b[38;5;241m=\u001b[39mbrowser_name,\n\u001b[0;32m   (...)\u001b[0m\n\u001b[1;32m     57\u001b[0m     ignore_proxy\u001b[38;5;241m=\u001b[39moptions\u001b[38;5;241m.\u001b[39m_ignore_local_proxy,\n\u001b[1;32m     58\u001b[0m )\n",
      "File \u001b[0;32m~/adv_ml/lib/python3.11/site-packages/selenium/webdriver/common/driver_finder.py:44\u001b[0m, in \u001b[0;36mDriverFinder.get_path\u001b[0;34m(service, options)\u001b[0m\n\u001b[1;32m     41\u001b[0m     \u001b[38;5;28;01mraise\u001b[39;00m NoSuchDriverException(msg) \u001b[38;5;28;01mfrom\u001b[39;00m \u001b[38;5;21;01merr\u001b[39;00m\n\u001b[1;32m     43\u001b[0m \u001b[38;5;28;01mif\u001b[39;00m path \u001b[38;5;129;01mis\u001b[39;00m \u001b[38;5;28;01mNone\u001b[39;00m \u001b[38;5;129;01mor\u001b[39;00m \u001b[38;5;129;01mnot\u001b[39;00m Path(path)\u001b[38;5;241m.\u001b[39mis_file():\n\u001b[0;32m---> 44\u001b[0m     \u001b[38;5;28;01mraise\u001b[39;00m NoSuchDriverException(\u001b[38;5;124mf\u001b[39m\u001b[38;5;124m\"\u001b[39m\u001b[38;5;124mUnable to locate or obtain driver for \u001b[39m\u001b[38;5;132;01m{\u001b[39;00moptions\u001b[38;5;241m.\u001b[39mcapabilities[\u001b[38;5;124m'\u001b[39m\u001b[38;5;124mbrowserName\u001b[39m\u001b[38;5;124m'\u001b[39m]\u001b[38;5;132;01m}\u001b[39;00m\u001b[38;5;124m\"\u001b[39m)\n\u001b[1;32m     46\u001b[0m \u001b[38;5;28;01mreturn\u001b[39;00m path\n",
      "\u001b[0;31mNoSuchDriverException\u001b[0m: Message: Unable to locate or obtain driver for chrome; For documentation on this error, please visit: https://www.selenium.dev/documentation/webdriver/troubleshooting/errors/driver_location\n"
     ]
    }
   ],
   "source": [
    "service = Service('/opt/homebrew/bin/chromedriver')\n",
    "driver = webdriver.Chrome(service=service)\n",
    "driver.get('https://www.congress.gov/bill/117th-congress/house-bill/9704/text?format=txt')\n",
    "\n",
    "bill_text_container = driver.find_element(\"id\", \"billTextContainer\")\n",
    "bill_text = bill_text_container.text\n",
    "print(\"SAMPLE BILL TEXT\")\n",
    "print()\n",
    "print(bill_text)\n",
    "\n",
    "driver.quit()"
   ]
  },
  {
   "cell_type": "code",
   "execution_count": null,
   "metadata": {},
   "outputs": [],
   "source": [
    "def add_raw_text(congress, index_start, load_file, exception_file, final_file, sec_avail = False):\n",
    "    \n",
    "    with open(load_file, 'r') as file:\n",
    "        data_base = json.load(file)    \n",
    "    \n",
    "    start_time = time.time()\n",
    "    \n",
    "    for index, _ in enumerate(data_base):\n",
    "\n",
    "        if index < index_start:\n",
    "            continue\n",
    "\n",
    "        try: \n",
    "            s = Service('/opt/homebrew/bin/chromedriver')\n",
    "            driver = webdriver.Chrome(service=s)\n",
    "            url = data_base[index]['congressdotgov_url'] + '/text?format=txt' \n",
    "\n",
    "            driver.get(url)            \n",
    "            bill_text_container = driver.find_element(\"id\", \"billTextContainer\")\n",
    "            bill_text = bill_text_container.text\n",
    "            driver.quit()\n",
    "\n",
    "            data_base[index]['raw_text'] = bill_text\n",
    "\n",
    "        except Exception as e:\n",
    "            print(f'At {congress}th {index}, experienced error: {e}')\n",
    "            file_name = exception_file + f'{index}.json'\n",
    "            with open(file_name, \"w\") as file:\n",
    "                json.dump(data_base, file)\n",
    "\n",
    "            if driver:\n",
    "                driver.quit() \n",
    "\n",
    "        if (time.time() - start_time) > sec_avail:\n",
    "            file_name = exception_file + f'{index}.json'\n",
    "            with open(file_name, \"w\") as file:\n",
    "                json.dump(data_base, file)         \n",
    "    \n",
    "    file_name = final_file\n",
    "    with open(file_name, \"w\") as file:\n",
    "        json.dump(data_base, file)\n",
    "    \n",
    "    return data_base"
   ]
  },
  {
   "cell_type": "code",
   "execution_count": 1,
   "metadata": {},
   "outputs": [
    {
     "ename": "NameError",
     "evalue": "name 'add_raw_text' is not defined",
     "output_type": "error",
     "traceback": [
      "\u001b[0;31m---------------------------------------------------------------------------\u001b[0m",
      "\u001b[0;31mNameError\u001b[0m                                 Traceback (most recent call last)",
      "Cell \u001b[0;32mIn[1], line 1\u001b[0m\n\u001b[0;32m----> 1\u001b[0m \u001b[43madd_raw_text\u001b[49m(\u001b[38;5;241m115\u001b[39m, \n\u001b[1;32m      2\u001b[0m              \u001b[38;5;241m5749\u001b[39m, \n\u001b[1;32m      3\u001b[0m             \u001b[38;5;124m'\u001b[39m\u001b[38;5;124m/data/115th_congress_house_bills_base.json\u001b[39m\u001b[38;5;124m'\u001b[39m, \n\u001b[1;32m      4\u001b[0m             \u001b[38;5;124m'\u001b[39m\u001b[38;5;124m/data/final_115th_raw_text/115th_error_\u001b[39m\u001b[38;5;124m'\u001b[39m, \n\u001b[1;32m      5\u001b[0m             \u001b[38;5;124m'\u001b[39m\u001b[38;5;124m/data/final_115th_raw_text/115th.json\u001b[39m\u001b[38;5;124m'\u001b[39m\n\u001b[1;32m      6\u001b[0m             )\n",
      "\u001b[0;31mNameError\u001b[0m: name 'add_raw_text' is not defined"
     ]
    }
   ],
   "source": [
    "add_raw_text(115, \n",
    "             5749, \n",
    "            '/data/115th_congress_house_bills_base.json', \n",
    "            '/data/final_115th_raw_text/115th_error_', \n",
    "            '/data/final_115th_raw_text/115th.json'\n",
    "            )"
   ]
  },
  {
   "cell_type": "code",
   "execution_count": null,
   "metadata": {},
   "outputs": [],
   "source": [
    "add_raw_text(116, \n",
    "             0, \n",
    "             '/data/116th_congress_house_bills_base.json', \n",
    "             '/data/final_116th_raw_text/116th_error_', \n",
    "             '/data/final_116th_raw_text/116th.json', \n",
    "             5400.0\n",
    "             )"
   ]
  },
  {
   "cell_type": "code",
   "execution_count": null,
   "metadata": {},
   "outputs": [],
   "source": [
    "add_raw_text(116, \n",
    "             4417, \n",
    "             '/data/final_116th_raw_text/116th_error_4416.json', \n",
    "             '/data/final_116th_raw_text/116th_error_', \n",
    "             '/data/final_116th_raw_text/116th.json', \n",
    "             5400.0\n",
    "             )"
   ]
  },
  {
   "cell_type": "code",
   "execution_count": 2,
   "metadata": {},
   "outputs": [
    {
     "ename": "NameError",
     "evalue": "name 'add_raw_text' is not defined",
     "output_type": "error",
     "traceback": [
      "\u001b[0;31m---------------------------------------------------------------------------\u001b[0m",
      "\u001b[0;31mNameError\u001b[0m                                 Traceback (most recent call last)",
      "Cell \u001b[0;32mIn[2], line 1\u001b[0m\n\u001b[0;32m----> 1\u001b[0m \u001b[43madd_raw_text\u001b[49m(\u001b[38;5;241m116\u001b[39m, \n\u001b[1;32m      2\u001b[0m              \u001b[38;5;241m6635\u001b[39m, \n\u001b[1;32m      3\u001b[0m              \u001b[38;5;124m'\u001b[39m\u001b[38;5;124m/data/final_116th_raw_text/116th_error_6634.json\u001b[39m\u001b[38;5;124m'\u001b[39m, \n\u001b[1;32m      4\u001b[0m              \u001b[38;5;124m'\u001b[39m\u001b[38;5;124m/data/final_116th_raw_text/116th_error_\u001b[39m\u001b[38;5;124m'\u001b[39m, \n\u001b[1;32m      5\u001b[0m              \u001b[38;5;124m'\u001b[39m\u001b[38;5;124m/data/final_116th_raw_text/116th.json\u001b[39m\u001b[38;5;124m'\u001b[39m, \n\u001b[1;32m      6\u001b[0m              \u001b[38;5;241m5400.0\u001b[39m\n\u001b[1;32m      7\u001b[0m              )\n",
      "\u001b[0;31mNameError\u001b[0m: name 'add_raw_text' is not defined"
     ]
    }
   ],
   "source": [
    "add_raw_text(116, \n",
    "             6635, \n",
    "             '/data/final_116th_raw_text/116th_error_6634.json', \n",
    "             '/data/final_116th_raw_text/116th_error_', \n",
    "             '/data/final_116th_raw_text/116th.json', \n",
    "             5400.0\n",
    "             )"
   ]
  },
  {
   "cell_type": "code",
   "execution_count": 3,
   "metadata": {},
   "outputs": [
    {
     "ename": "NameError",
     "evalue": "name 'add_raw_text' is not defined",
     "output_type": "error",
     "traceback": [
      "\u001b[0;31m---------------------------------------------------------------------------\u001b[0m",
      "\u001b[0;31mNameError\u001b[0m                                 Traceback (most recent call last)",
      "Cell \u001b[0;32mIn[3], line 1\u001b[0m\n\u001b[0;32m----> 1\u001b[0m \u001b[43madd_raw_text\u001b[49m(\u001b[38;5;241m117\u001b[39m, \n\u001b[1;32m      2\u001b[0m              \u001b[38;5;241m0\u001b[39m, \n\u001b[1;32m      3\u001b[0m              \u001b[38;5;124m'\u001b[39m\u001b[38;5;124m/data/117th_congress_house_bills_base.json\u001b[39m\u001b[38;5;124m'\u001b[39m, \n\u001b[1;32m      4\u001b[0m              \u001b[38;5;124m'\u001b[39m\u001b[38;5;124m/data/final_117th_raw_text/117th_error_\u001b[39m\u001b[38;5;124m'\u001b[39m, \n\u001b[1;32m      5\u001b[0m              \u001b[38;5;124m'\u001b[39m\u001b[38;5;124m/data/final_117th_raw_text/117th.json\u001b[39m\u001b[38;5;124m'\u001b[39m, \n\u001b[1;32m      6\u001b[0m              \u001b[38;5;241m21600\u001b[39m\n\u001b[1;32m      7\u001b[0m              )\n",
      "\u001b[0;31mNameError\u001b[0m: name 'add_raw_text' is not defined"
     ]
    }
   ],
   "source": [
    "add_raw_text(117, \n",
    "             0, \n",
    "             '/data/117th_congress_house_bills_base.json', \n",
    "             '/data/final_117th_raw_text/117th_error_', \n",
    "             '/data/final_117th_raw_text/117th.json', \n",
    "             21600\n",
    "             )"
   ]
  },
  {
   "cell_type": "code",
   "execution_count": 4,
   "metadata": {},
   "outputs": [
    {
     "ename": "NameError",
     "evalue": "name 'add_raw_text' is not defined",
     "output_type": "error",
     "traceback": [
      "\u001b[0;31m---------------------------------------------------------------------------\u001b[0m",
      "\u001b[0;31mNameError\u001b[0m                                 Traceback (most recent call last)",
      "Cell \u001b[0;32mIn[4], line 1\u001b[0m\n\u001b[0;32m----> 1\u001b[0m \u001b[43madd_raw_text\u001b[49m(\u001b[38;5;241m118\u001b[39m, \n\u001b[1;32m      2\u001b[0m              \u001b[38;5;241m0\u001b[39m, \n\u001b[1;32m      3\u001b[0m              \u001b[38;5;124m'\u001b[39m\u001b[38;5;124m/data/118th_congress_house_bills_base.json\u001b[39m\u001b[38;5;124m'\u001b[39m, \n\u001b[1;32m      4\u001b[0m              \u001b[38;5;124m'\u001b[39m\u001b[38;5;124m/data/final_118th_raw_text/118th_error_\u001b[39m\u001b[38;5;124m'\u001b[39m, \n\u001b[1;32m      5\u001b[0m              \u001b[38;5;124m'\u001b[39m\u001b[38;5;124m/data/final_118th_raw_text/118th.json\u001b[39m\u001b[38;5;124m'\u001b[39m\n\u001b[1;32m      6\u001b[0m              )\n",
      "\u001b[0;31mNameError\u001b[0m: name 'add_raw_text' is not defined"
     ]
    }
   ],
   "source": [
    "add_raw_text(118, \n",
    "             0, \n",
    "             '/data/118th_congress_house_bills_base.json', \n",
    "             '/data/final_118th_raw_text/118th_error_', \n",
    "             '/data/final_118th_raw_text/118th.json'\n",
    "             )"
   ]
  },
  {
   "cell_type": "code",
   "execution_count": 6,
   "metadata": {},
   "outputs": [
    {
     "name": "stdout",
     "output_type": "stream",
     "text": [
      "115 CONGRESSS HOUSE BILLS\n",
      "\n"
     ]
    },
    {
     "ename": "NameError",
     "evalue": "name 'pd' is not defined",
     "output_type": "error",
     "traceback": [
      "\u001b[0;31m---------------------------------------------------------------------------\u001b[0m",
      "\u001b[0;31mNameError\u001b[0m                                 Traceback (most recent call last)",
      "Cell \u001b[0;32mIn[6], line 4\u001b[0m\n\u001b[1;32m      1\u001b[0m \u001b[38;5;28mprint\u001b[39m(\u001b[38;5;124m\"\u001b[39m\u001b[38;5;124m115 CONGRESSS HOUSE BILLS\u001b[39m\u001b[38;5;124m\"\u001b[39m)\n\u001b[1;32m      2\u001b[0m \u001b[38;5;28mprint\u001b[39m()\n\u001b[0;32m----> 4\u001b[0m data_115 \u001b[38;5;241m=\u001b[39m df \u001b[38;5;241m=\u001b[39m \u001b[43mpd\u001b[49m\u001b[38;5;241m.\u001b[39mread_json(\u001b[38;5;124mf\u001b[39m\u001b[38;5;124m'\u001b[39m\u001b[38;5;124m/data/115th_congress_house_bills_base.json\u001b[39m\u001b[38;5;124m'\u001b[39m)\n\u001b[1;32m      6\u001b[0m \u001b[38;5;28mprint\u001b[39m(\u001b[38;5;124m\"\u001b[39m\u001b[38;5;124mHR COUNT:\u001b[39m\u001b[38;5;124m\"\u001b[39m, \u001b[38;5;28mlen\u001b[39m(data_115\u001b[38;5;241m.\u001b[39mloc[data_115\u001b[38;5;241m.\u001b[39mloc[:, \u001b[38;5;124m'\u001b[39m\u001b[38;5;124mbill_type\u001b[39m\u001b[38;5;124m'\u001b[39m] \u001b[38;5;241m==\u001b[39m \u001b[38;5;124m'\u001b[39m\u001b[38;5;124mhr\u001b[39m\u001b[38;5;124m'\u001b[39m, :]))\n\u001b[1;32m      7\u001b[0m \u001b[38;5;28mprint\u001b[39m(\u001b[38;5;124m\"\u001b[39m\u001b[38;5;124mHRES COUNT:\u001b[39m\u001b[38;5;124m\"\u001b[39m, \u001b[38;5;28mlen\u001b[39m(data_115\u001b[38;5;241m.\u001b[39mloc[data_115\u001b[38;5;241m.\u001b[39mloc[:, \u001b[38;5;124m'\u001b[39m\u001b[38;5;124mbill_type\u001b[39m\u001b[38;5;124m'\u001b[39m] \u001b[38;5;241m==\u001b[39m \u001b[38;5;124m'\u001b[39m\u001b[38;5;124mhres\u001b[39m\u001b[38;5;124m'\u001b[39m, :]))\n",
      "\u001b[0;31mNameError\u001b[0m: name 'pd' is not defined"
     ]
    }
   ],
   "source": [
    "print(\"115 CONGRESSS HOUSE BILLS\")\n",
    "print()\n",
    "\n",
    "data_115 = df = pd.read_json(f'/data/115th_congress_house_bills_base.json')\n",
    "\n",
    "print(\"HR COUNT:\", len(data_115.loc[data_115.loc[:, 'bill_type'] == 'hr', :]))\n",
    "print(\"HRES COUNT:\", len(data_115.loc[data_115.loc[:, 'bill_type'] == 'hres', :]))\n",
    "print(\"HCONRES COUNT:\", len(data_115.loc[data_115.loc[:, 'bill_type'] == 'hconres', :]))\n",
    "print(\"HJRES COUNT:\", len(data_115.loc[data_115.loc[:, 'bill_type'] == 'hjres', :]))\n",
    "\n",
    "pablo_115 = data_115.loc[(data_115.loc[:, 'bill_type'] == 'hr') | \n",
    "                         (data_115.loc[:, 'bill_type'] == 'hjres'), :]\n",
    "\n",
    "print(\"HR | HJRES COUNT:\", len(pablo_115))\n",
    "print(\"HR | HJRES COUNT (House Passage NaN Dropped):\", \n",
    "      len(pablo_115.dropna(subset=['house_passage'])))\n",
    "print(\"RATIO OF R | HJRES COUNT (based on House Passage NaN Dropped)\", \n",
    "      len(pablo_115.dropna(subset=['house_passage'])) / len(pablo_115))"
   ]
  },
  {
   "cell_type": "code",
   "execution_count": 5,
   "metadata": {},
   "outputs": [
    {
     "name": "stdout",
     "output_type": "stream",
     "text": [
      "116 CONGRESSS HOUSE BILLS\n",
      "\n"
     ]
    },
    {
     "ename": "NameError",
     "evalue": "name 'pd' is not defined",
     "output_type": "error",
     "traceback": [
      "\u001b[0;31m---------------------------------------------------------------------------\u001b[0m",
      "\u001b[0;31mNameError\u001b[0m                                 Traceback (most recent call last)",
      "Cell \u001b[0;32mIn[5], line 4\u001b[0m\n\u001b[1;32m      1\u001b[0m \u001b[38;5;28mprint\u001b[39m(\u001b[38;5;124m\"\u001b[39m\u001b[38;5;124m116 CONGRESSS HOUSE BILLS\u001b[39m\u001b[38;5;124m\"\u001b[39m)\n\u001b[1;32m      2\u001b[0m \u001b[38;5;28mprint\u001b[39m()\n\u001b[0;32m----> 4\u001b[0m data_116 \u001b[38;5;241m=\u001b[39m df \u001b[38;5;241m=\u001b[39m \u001b[43mpd\u001b[49m\u001b[38;5;241m.\u001b[39mread_json(\u001b[38;5;124mf\u001b[39m\u001b[38;5;124m'\u001b[39m\u001b[38;5;124m/data/116th_congress_house_bills_base.json\u001b[39m\u001b[38;5;124m'\u001b[39m)\n\u001b[1;32m      6\u001b[0m \u001b[38;5;28mprint\u001b[39m(\u001b[38;5;124m\"\u001b[39m\u001b[38;5;124mHR COUNT:\u001b[39m\u001b[38;5;124m\"\u001b[39m, \u001b[38;5;28mlen\u001b[39m(data_116\u001b[38;5;241m.\u001b[39mloc[data_116\u001b[38;5;241m.\u001b[39mloc[:, \u001b[38;5;124m'\u001b[39m\u001b[38;5;124mbill_type\u001b[39m\u001b[38;5;124m'\u001b[39m] \u001b[38;5;241m==\u001b[39m \u001b[38;5;124m'\u001b[39m\u001b[38;5;124mhr\u001b[39m\u001b[38;5;124m'\u001b[39m, :]))\n\u001b[1;32m      7\u001b[0m \u001b[38;5;28mprint\u001b[39m(\u001b[38;5;124m\"\u001b[39m\u001b[38;5;124mHRES COUNT:\u001b[39m\u001b[38;5;124m\"\u001b[39m, \u001b[38;5;28mlen\u001b[39m(data_116\u001b[38;5;241m.\u001b[39mloc[data_116\u001b[38;5;241m.\u001b[39mloc[:, \u001b[38;5;124m'\u001b[39m\u001b[38;5;124mbill_type\u001b[39m\u001b[38;5;124m'\u001b[39m] \u001b[38;5;241m==\u001b[39m \u001b[38;5;124m'\u001b[39m\u001b[38;5;124mhres\u001b[39m\u001b[38;5;124m'\u001b[39m, :]))\n",
      "\u001b[0;31mNameError\u001b[0m: name 'pd' is not defined"
     ]
    }
   ],
   "source": [
    "print(\"116 CONGRESSS HOUSE BILLS\")\n",
    "print()\n",
    "\n",
    "data_116 = df = pd.read_json(f'/data/116th_congress_house_bills_base.json')\n",
    "\n",
    "print(\"HR COUNT:\", len(data_116.loc[data_116.loc[:, 'bill_type'] == 'hr', :]))\n",
    "print(\"HRES COUNT:\", len(data_116.loc[data_116.loc[:, 'bill_type'] == 'hres', :]))\n",
    "print(\"HCONRES COUNT:\", len(data_116.loc[data_116.loc[:, 'bill_type'] == 'hconres', :]))\n",
    "print(\"HJRES COUNT:\", len(data_116.loc[data_116.loc[:, 'bill_type'] == 'hjres', :]))\n",
    "\n",
    "pablo_116 = data_116.loc[(data_116.loc[:, 'bill_type'] == 'hr') | \n",
    "                         (data_116.loc[:, 'bill_type'] == 'hjres'), :]\n",
    "\n",
    "print(\"HR | HJRES COUNT:\", len(pablo_116))\n",
    "print(\"HR | HJRES COUNT (House Passage NaN Dropped):\", \n",
    "      len(pablo_116.dropna(subset=['house_passage'])))\n",
    "print(\"RATIO OF R | HJRES COUNT (based on House Passage NaN Dropped)\", \n",
    "      len(pablo_116.dropna(subset=['house_passage'])) / len(pablo_116))"
   ]
  },
  {
   "cell_type": "code",
   "execution_count": null,
   "metadata": {},
   "outputs": [
    {
     "name": "stdout",
     "output_type": "stream",
     "text": [
      "9704\n",
      "1532\n",
      "125\n",
      "106\n",
      "9810\n",
      "549\n",
      "0.05596330275229358\n"
     ]
    }
   ],
   "source": [
    "print(\"117 CONGRESSS HOUSE BILLS\")\n",
    "print()\n",
    "\n",
    "data_117 = df = pd.read_json(f'/data/117th_congress_house_bills_base.json')\n",
    "\n",
    "print(\"HR COUNT:\", len(data_117.loc[data_117.loc[:, 'bill_type'] == 'hr', :]))\n",
    "print(\"HRES COUNT:\", len(data_117.loc[data_117.loc[:, 'bill_type'] == 'hres', :]))\n",
    "print(\"HCONRES COUNT:\", len(data_117.loc[data_117.loc[:, 'bill_type'] == 'hconres', :]))\n",
    "print(\"HJRES COUNT:\", len(data_117.loc[data_117.loc[:, 'bill_type'] == 'hjres', :]))\n",
    "\n",
    "pablo_117 = data_117.loc[(data_117.loc[:, 'bill_type'] == 'hr') | \n",
    "                         (data_117.loc[:, 'bill_type'] == 'hjres'), :]\n",
    "\n",
    "print(\"HR | HJRES COUNT:\", len(pablo_117))\n",
    "print(\"HR | HJRES COUNT (House Passage NaN Dropped):\", \n",
    "      len(pablo_117.dropna(subset=['house_passage'])))\n",
    "print(\"RATIO OF R | HJRES COUNT (based on House Passage NaN Dropped)\", \n",
    "      len(pablo_117.dropna(subset=['house_passage'])) / len(pablo_117))"
   ]
  },
  {
   "cell_type": "code",
   "execution_count": null,
   "metadata": {},
   "outputs": [
    {
     "name": "stdout",
     "output_type": "stream",
     "text": [
      "7352\n",
      "1013\n",
      "90\n",
      "114\n",
      "7466\n",
      "245\n",
      "0.032815429949102595\n"
     ]
    }
   ],
   "source": [
    "print(\"118 CONGRESSS HOUSE BILLS\")\n",
    "print()\n",
    "\n",
    "data_118 = df = pd.read_json(f'/data/118th_congress_house_bills_base.json')\n",
    "\n",
    "print(\"HR COUNT:\", len(data_118.loc[data_118.loc[:, 'bill_type'] == 'hr', :]))\n",
    "print(\"HRES COUNT:\", len(data_118.loc[data_118.loc[:, 'bill_type'] == 'hres', :]))\n",
    "print(\"HCONRES COUNT:\", len(data_118.loc[data_118.loc[:, 'bill_type'] == 'hconres', :]))\n",
    "print(\"HJRES COUNT:\", len(data_118.loc[data_118.loc[:, 'bill_type'] == 'hjres', :]))\n",
    "\n",
    "pablo_118 = data_118.loc[(data_118.loc[:, 'bill_type'] == 'hr') | \n",
    "                         (data_118.loc[:, 'bill_type'] == 'hjres'), :]\n",
    "\n",
    "print(\"HR | HJRES COUNT:\", len(pablo_118))\n",
    "print(\"HR | HJRES COUNT (House Passage NaN Dropped):\", \n",
    "      len(pablo_118.dropna(subset=['house_passage'])))\n",
    "print(\"RATIO OF R | HJRES COUNT (based on House Passage NaN Dropped)\", \n",
    "      len(pablo_118.dropna(subset=['house_passage'])) / len(pablo_118))"
   ]
  }
 ],
 "metadata": {
  "kernelspec": {
   "display_name": "Python 3",
   "language": "python",
   "name": "python3"
  },
  "language_info": {
   "codemirror_mode": {
    "name": "ipython",
    "version": 3
   },
   "file_extension": ".py",
   "mimetype": "text/x-python",
   "name": "python",
   "nbconvert_exporter": "python",
   "pygments_lexer": "ipython3",
   "version": "3.11.7"
  }
 },
 "nbformat": 4,
 "nbformat_minor": 2
}
