{
 "cells": [
  {
   "cell_type": "code",
   "execution_count": 1,
   "metadata": {},
   "outputs": [
    {
     "name": "stderr",
     "output_type": "stream",
     "text": [
      "/var/folders/zc/lk8h3bjj4bvgd74278z5plmm0000gn/T/ipykernel_34166/3808376406.py:3: DtypeWarning: Columns (3,4,5,6,7,8,9,10,11,12,13,14,15,16,17,18,19,20,21,22,23,24,25,26,27,28,29,30,31,32,33,41,61,62,63,64,65,66,67,68,69,70,71,72,73,74,75,76,77,78,79,80,81,82,83,84,85,86,87,88,89,90,91,92,93,94,95,96,97,98,99,100,101,102,103,104,105,106,107,108,109,110,111,112,113,114,115,116,117,118,119,120,121,122,123,124,125,126,127,128,129,130,131,132,133,134,135,136,137,138,139,140,141,142,143,144,145,146,147,148,149,150,151,152,153,154,155,156,157,158,159,160,161,162,163,164,165,166,167,168,169,170,171,172,173,174,175,176,177,178,179,180,181,182,183,184,185,186,187,188,189,190,191,192,193,194,195,196,197,198,199,200,201,202,203,204,205,206,207,208,209,210,211,212,213,214,215,216,217,218,219,220,221,222,223,224,225,226,227,228,229,230,231,232,233,234,235,236,237,238,239,240,241,242,243,244,245,246,247,248,249,250,251,252,253,254,255,256,257,258,259,260,261,262,263,264,265,266,267,268,269,270,271,272,273,274,275,276,277,278,279,280,281,282,283,284,285,286,287,288,289,290,291,292,293,294,295,296,297,298,299,300,301,302,303,304,305,306,307,308,309,310,311,312,313,314,315,316,317,318,319,320,321,322,323,324,325,326,327,328,329,330,331,332,333,334,335,336,337,338,339,340,341,342,343,344,345,346,347,348,349,350,351,352,353,354,355,356,357,358,359,360,361,362,363,364,365,366,367,368,369,370,371,372,373,374,375,376,377,378,379,380,381,382,383,384,385,386,387,388,389,390,391,392,393,394,395,396,397,398,399,400,401,402,403,404,405,406,407,408,409,410,411,412,413,414,415,416,417,418,419,420,421,422,423,424,425,426,427,428,429,430,431,432,433,434,435,436,437,438,439,440,441,442,443,444,445,446,447,448,449,450,451,452,453,454,455,456,457,458,459,460,461,462,463,464,465,466,467,468,469,470,471,472,473,474,475,476,477,478,479,480,481,482,483,484,485,486,487,488,489,490,491,492,493,494,495,496,497,498,499,500,501,502,503,504,505,506,507,508,509,510,511,512,513,514,515,516,517,518,519,520,521,522,523,524,525,526,527,528,529,530,531,532,533,534,535,536,537,538,539,540,541,542,543,544,545,546,547,548,549,550,551,552,553,554,555,556,557,558,559,560,561,562,563,564,565,566,567,568,569,570,571,572,573,574,575,576,577,578,579,580,581,582,583,584,585,586,587,588,589,590,591,592,593,594,595,596,597,598,599,600,601,602,603,604,605,606,607,608,609,610,611,612,613,614,615,616,617,618,619,620,621,622,623,624,625,626,627,628,629,630,631,632,633,634,635,636,637,638,639,640,641,642,643,644,645,646,647,648,649,650,651,652,653,654,655,656,657,658,659,660,661,662,663,664,665,666,667,668,669,670,671,672,673,674,675,676,677,678,679,680,681,682,683,684,685,686,687,688,689,690,691,692,693,694,695,696,697,698,699,700,701,702,703,704,705,706,707,708,709,710,711,712,713,714,715,716,717,718,719,720,721,722,723,724,725,726,727,728,729,730,731,732,733,734,735,736,737,738,739,740,741,742,743,744,745,746,747,748,749,750,753,759,760,761,762,763,764,765,766,767,768,769,773,774,775,777,778,780,781,783,784,786,789,792,795,798,801) have mixed types. Specify dtype option on import or set low_memory=False.\n",
      "  nyt_df = pd.read_csv(\"nyt_scraped_data.csv\")\n",
      "/var/folders/zc/lk8h3bjj4bvgd74278z5plmm0000gn/T/ipykernel_34166/3808376406.py:4: DtypeWarning: Columns (3,17) have mixed types. Specify dtype option on import or set low_memory=False.\n",
      "  washington_df = pd.read_csv(\"washington_post_with_date.csv\")\n",
      "/var/folders/zc/lk8h3bjj4bvgd74278z5plmm0000gn/T/ipykernel_34166/3808376406.py:5: DtypeWarning: Columns (1,301,302,303,304,305,306,307,308,309,310,311,312,313,314,315,316,317,318,319,320,321,322,323,324,325,326,327,328,329,330,331,332,333,334,343,344,345,346,351,352,354,355,357,358,360,361,363,364,366,367,369,370,372,373,375,376,378,379,381,382,384,385) have mixed types. Specify dtype option on import or set low_memory=False.\n",
      "  cnn_df = pd.read_csv(\"cnn.csv\")\n"
     ]
    }
   ],
   "source": [
    "import pandas as pd \n",
    "\n",
    "nyt_df = pd.read_csv(\"data/nyt_data.csv\")\n",
    "washington_df = pd.read_csv(\"data/washington_post_with_date.csv\")\n",
    "cnn_df = pd.read_csv(\"data/cnn_data.csv\")"
   ]
  },
  {
   "cell_type": "code",
   "execution_count": 2,
   "metadata": {},
   "outputs": [
    {
     "name": "stdout",
     "output_type": "stream",
     "text": [
      "Index(['text', 'title', 'url', 'date'], dtype='object')\n",
      "Index(['text', 'title', 'url', 'date'], dtype='object')\n",
      "Index(['text', 'title', 'url', 'date'], dtype='object')\n"
     ]
    }
   ],
   "source": [
    "def keep_columns(df):\n",
    "    columns_to_keep = ['text', 'title', 'url', 'date']\n",
    "    df = df.loc[:, columns_to_keep]\n",
    "    return df\n",
    "\n",
    "nyt_df = keep_columns(nyt_df)\n",
    "print(nyt_df.columns)\n",
    "\n",
    "washington_df = keep_columns(washington_df)\n",
    "print(washington_df.columns)\n",
    "\n",
    "cnn_df = keep_columns(cnn_df)\n",
    "print(cnn_df.columns)"
   ]
  },
  {
   "cell_type": "code",
   "execution_count": 5,
   "metadata": {},
   "outputs": [
    {
     "name": "stdout",
     "output_type": "stream",
     "text": [
      "0        2016-10-09\n",
      "1        2016-10-06\n",
      "2        2016-10-05\n",
      "3        2016-10-07\n",
      "4        2016-10-06\n",
      "            ...    \n",
      "54767    2017-07-21\n",
      "54768    2017-06-15\n",
      "54769    2017-08-03\n",
      "54770    2017-10-06\n",
      "54771    2017-07-10\n",
      "Name: date, Length: 54772, dtype: object\n",
      "0        2016-10-01\n",
      "1        2016-10-01\n",
      "2        2016-10-01\n",
      "3        2016-10-01\n",
      "4        2016-10-01\n",
      "            ...    \n",
      "99455    2017-04-24\n",
      "99456    2017-11-06\n",
      "99457    2017-06-16\n",
      "99458    2017-04-20\n",
      "99459    2017-12-04\n",
      "Name: date, Length: 99460, dtype: object\n"
     ]
    }
   ],
   "source": [
    "nyt_df['date'] = pd.to_datetime(nyt_df['date']).dt.strftime('%Y-%m-%d')\n",
    "print(nyt_df['date'])\n",
    "\n",
    "washington_df['date'] = pd.to_datetime(washington_df['date']).dt.strftime('%Y-%m-%d')\n",
    "print(washington_df['date'])"
   ]
  },
  {
   "cell_type": "code",
   "execution_count": 6,
   "metadata": {},
   "outputs": [
    {
     "name": "stdout",
     "output_type": "stream",
     "text": [
      "0        2016-10-31\n",
      "1        2017-06-30\n",
      "2        2017-01-04\n",
      "3        2017-06-30\n",
      "4        2017-03-31\n",
      "            ...    \n",
      "16143    2017-07-12\n",
      "16144    2016-11-10\n",
      "16145    2017-08-14\n",
      "16146    2017-10-17\n",
      "16147    2017-07-12\n",
      "Name: date, Length: 16148, dtype: object\n"
     ]
    }
   ],
   "source": [
    "def is_iso8601_format(value):\n",
    "    try:\n",
    "        pd.to_datetime(value, format='%Y-%m-%dT%H:%M:%S.%fZ')\n",
    "        return True\n",
    "    except ValueError:\n",
    "        return False\n",
    "\n",
    "cnn_df['date'] = cnn_df['date'].apply(lambda x: pd.to_datetime(x, format='%Y-%m-%dT%H:%M:%S.%fZ').strftime('%Y-%m-%d') if is_iso8601_format(x) else x)\n",
    "print(cnn_df['date'])"
   ]
  },
  {
   "cell_type": "code",
   "execution_count": 4,
   "metadata": {},
   "outputs": [
    {
     "name": "stderr",
     "output_type": "stream",
     "text": [
      "/Users/rsurridge/adv_ml/lib/python3.11/site-packages/tqdm/auto.py:21: TqdmWarning: IProgress not found. Please update jupyter and ipywidgets. See https://ipywidgets.readthedocs.io/en/stable/user_install.html\n",
      "  from .autonotebook import tqdm as notebook_tqdm\n",
      "/Users/rsurridge/adv_ml/lib/python3.11/site-packages/torch/_utils.py:776: UserWarning: TypedStorage is deprecated. It will be removed in the future and UntypedStorage will be the only storage class. This should only matter to you if you are using storages directly.  To access UntypedStorage directly, use tensor.untyped_storage() instead of tensor.storage()\n",
      "  return self.fget.__get__(instance, owner)()\n"
     ]
    }
   ],
   "source": [
    "from transformers import pipeline, AutoTokenizer\n",
    "model_name = \"distilbert-base-uncased-finetuned-sst-2-english\"\n",
    "revision = \"af0f99b\"\n",
    "classifier = pipeline(\"sentiment-analysis\", model=model_name, revision=revision)\n",
    "tokenizer = AutoTokenizer.from_pretrained(\"distilbert-base-uncased-finetuned-sst-2-english\")"
   ]
  },
  {
   "cell_type": "code",
   "execution_count": 5,
   "metadata": {},
   "outputs": [],
   "source": [
    "from transformers import logging as transformers_logging\n",
    "transformers_logging.set_verbosity_error()\n",
    "\n",
    "def sentiment(text):\n",
    "    model_name = \"distilbert-base-uncased-finetuned-sst-2-english\"\n",
    "    tokenizer = AutoTokenizer.from_pretrained(model_name)\n",
    "    classifier = pipeline(\"sentiment-analysis\", model=model_name)\n",
    "\n",
    "    # Adjustments for special tokens\n",
    "    max_length = 512 - 10  # Ensure space for special tokens\n",
    "    stride = 256\n",
    "\n",
    "    tokens = tokenizer(text, add_special_tokens=False, return_tensors=\"pt\", truncation=False)[\"input_ids\"].squeeze()\n",
    "    \n",
    "    if len(tokens) <= max_length:\n",
    "        results = [classifier(text)]  # Directly classify if within limit\n",
    "    \n",
    "    else:\n",
    "        chunks = [tokens[i : i + max_length] for i in range(0, len(tokens), max_length - stride)]\n",
    "        results = []\n",
    "            \n",
    "        for chunk in chunks:\n",
    "            \n",
    "            chunk_text = tokenizer.decode(chunk, skip_special_tokens=True)\n",
    "            result = classifier(chunk_text)\n",
    "            results.append(result)\n",
    "\n",
    "    positive_scores = sum([r[0]['score'] for r in results if r[0]['label'] == 'POSITIVE'])\n",
    "    negative_scores = sum([r[0]['score'] for r in results if r[0]['label'] == 'NEGATIVE'])\n",
    "\n",
    "    return 1 if positive_scores >= negative_scores else 0"
   ]
  },
  {
   "cell_type": "code",
   "execution_count": 6,
   "metadata": {},
   "outputs": [
    {
     "name": "stderr",
     "output_type": "stream",
     "text": [
      "/var/folders/zc/lk8h3bjj4bvgd74278z5plmm0000gn/T/ipykernel_88375/575451433.py:1: FutureWarning: Series.__getitem__ treating keys as positions is deprecated. In a future version, integer keys will always be treated as labels (consistent with DataFrame behavior). To access a value by position, use `ser.iloc[pos]`\n",
      "  print(nyt_df.loc[0][0])\n",
      "/var/folders/zc/lk8h3bjj4bvgd74278z5plmm0000gn/T/ipykernel_88375/575451433.py:2: FutureWarning: Series.__getitem__ treating keys as positions is deprecated. In a future version, integer keys will always be treated as labels (consistent with DataFrame behavior). To access a value by position, use `ser.iloc[pos]`\n",
      "  print(\"Sentiment:\", sentiment(nyt_df.loc[0][0]))\n"
     ]
    },
    {
     "name": "stdout",
     "output_type": "stream",
     "text": [
      "https://www.nytimes.com/by/james-wagner\n",
      "Sentiment: 0\n"
     ]
    }
   ],
   "source": [
    "print(nyt_df.loc[0][0])\n",
    "print(\"Sentiment:\", sentiment(nyt_df.iloc[0][0]))"
   ]
  },
  {
   "cell_type": "code",
   "execution_count": 7,
   "metadata": {},
   "outputs": [
    {
     "name": "stdout",
     "output_type": "stream",
     "text": [
      "http://www.nytimes.com/by/kirk-semple\n"
     ]
    },
    {
     "name": "stderr",
     "output_type": "stream",
     "text": [
      "/var/folders/zc/lk8h3bjj4bvgd74278z5plmm0000gn/T/ipykernel_88375/633247761.py:1: FutureWarning: Series.__getitem__ treating keys as positions is deprecated. In a future version, integer keys will always be treated as labels (consistent with DataFrame behavior). To access a value by position, use `ser.iloc[pos]`\n",
      "  print(nyt_df.loc[2][0])\n",
      "/var/folders/zc/lk8h3bjj4bvgd74278z5plmm0000gn/T/ipykernel_88375/633247761.py:2: FutureWarning: Series.__getitem__ treating keys as positions is deprecated. In a future version, integer keys will always be treated as labels (consistent with DataFrame behavior). To access a value by position, use `ser.iloc[pos]`\n",
      "  print(\"Sentiment:\", sentiment(nyt_df.loc[2][0]))\n"
     ]
    },
    {
     "name": "stdout",
     "output_type": "stream",
     "text": [
      "Sentiment: 0\n"
     ]
    }
   ],
   "source": [
    "print(nyt_df.loc[2][0])\n",
    "print(\"Sentiment:\", sentiment(nyt_df.iloc[2][0]))"
   ]
  },
  {
   "cell_type": "code",
   "execution_count": 8,
   "metadata": {},
   "outputs": [],
   "source": [
    "nyt_df.loc[:, \"Positive\"] = nyt_df.loc[:, 'text'].apply(sentiment)\n",
    "print(nyt_df.loc[:, \"Positive\"].value_counts())\n",
    "nyt_df.to_csv('data/nyt_with_sentiment.csv', index=False)"
   ]
  },
  {
   "cell_type": "code",
   "execution_count": 9,
   "metadata": {},
   "outputs": [
    {
     "data": {
      "text/plain": [
       "Positive\n",
       "0    72826\n",
       "1    26634\n",
       "Name: count, dtype: int64"
      ]
     },
     "execution_count": 9,
     "metadata": {},
     "output_type": "execute_result"
    }
   ],
   "source": [
    "washington_df.loc[:, \"Positive\"] = washington_df.loc[:, 'text'].apply(sentiment)\n",
    "washington_df.loc[:, \"Positive\"].value_counts()\n",
    "washington_df.to_csv('data/washington_with_sentiment.csv', index=False)"
   ]
  },
  {
   "cell_type": "code",
   "execution_count": 10,
   "metadata": {},
   "outputs": [],
   "source": [
    "cnn_df.loc[:, \"Positive\"] = cnn_df.loc[:, 'text'].apply(sentiment)\n",
    "cnn_df.loc[:, \"Positive\"].value_counts()\n",
    "cnn_df.to_csv('data/cnn_with_sentiment.csv', index=False)"
   ]
  }
 ],
 "metadata": {
  "kernelspec": {
   "display_name": "Python 3.10.13 ('capp30255')",
   "language": "python",
   "name": "python3"
  },
  "language_info": {
   "codemirror_mode": {
    "name": "ipython",
    "version": 3
   },
   "file_extension": ".py",
   "mimetype": "text/x-python",
   "name": "python",
   "nbconvert_exporter": "python",
   "pygments_lexer": "ipython3",
   "version": "3.11.7"
  },
  "orig_nbformat": 4,
  "vscode": {
   "interpreter": {
    "hash": "3e5929c20138c30a102204b40562524d3f77db18514f179b8ed978e250119042"
   }
  }
 },
 "nbformat": 4,
 "nbformat_minor": 2
}
