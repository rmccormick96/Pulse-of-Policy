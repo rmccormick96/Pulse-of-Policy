{
  "nbformat": 4,
  "nbformat_minor": 0,
  "metadata": {
    "colab": {
      "provenance": []
    },
    "kernelspec": {
      "name": "python3",
      "display_name": "Python 3"
    },
    "language_info": {
      "name": "python"
    }
  },
  "cells": [
    {
      "cell_type": "code",
      "execution_count": null,
      "metadata": {
        "id": "-hrGfH8L8k9J"
      },
      "outputs": [],
      "source": [
        "import pandas as pd\n",
        "import numpy as np\n",
        "from google.colab import drive\n",
        "drive.mount('/content/drive')"
      ]
    },
    {
      "cell_type": "code",
      "source": [
        "fox_cos_meanmean = pd.read_csv('/content/drive/Shareddrives/PulseofPolicy_data/text_cosinesimilarity_scores/df_fox_meanmean.csv')\n",
        "fox_cos_meanmax = pd.read_csv('/content/drive/Shareddrives/PulseofPolicy_data/text_cosinesimilarity_scores/df_fox_meanmax.csv')\n",
        "# fox_cos_cls = pd.read_csv('/content/drive/Shareddrives/PulseofPolicy_data/text_cosinesimilarity_scores/df_fox_cls.csv')\n",
        "breitbart_cos_meanmean = pd.read_csv('/content/drive/Shareddrives/PulseofPolicy_data/text_cosinesimilarity_scores/df_breitbart_meanmean.csv')\n",
        "breitbart_cos_meanmax = pd.read_csv('/content/drive/Shareddrives/PulseofPolicy_data/text_cosinesimilarity_scores/df_breitbart_meanmax.csv')\n",
        "# breitbart_cos_cls = pd.read_csv('/content/drive/Shareddrives/PulseofPolicy_data/text_cosinesimilarity_scores/df_breitbart_cls.csv')\n",
        "nytimes_cos_meanmean = pd.read_csv('/content/drive/Shareddrives/PulseofPolicy_data/text_cosinesimilarity_scores/df_nytimes_meanmean.csv')\n",
        "nytimes_cos_meanmax = pd.read_csv('/content/drive/Shareddrives/PulseofPolicy_data/text_cosinesimilarity_scores/df_nytimes_meanmax.csv')\n",
        "# nytimes_cos_cls = pd.read_csv('/content/drive/Shareddrives/PulseofPolicy_data/text_cosinesimilarity_scores/df_nytimes_cls.csv')\n",
        "wapo_cos_meanmean = pd.read_csv('/content/drive/Shareddrives/PulseofPolicy_data/text_cosinesimilarity_scores/df_wapo_meanmean.csv')\n",
        "wapo_cos_meanmax = pd.read_csv('/content/drive/Shareddrives/PulseofPolicy_data/text_cosinesimilarity_scores/df_wapo_meanmax.csv')\n",
        "# wapo_cos_cls = pd.read_csv('/content/drive/Shareddrives/PulseofPolicy_data/text_cosinesimilarity_scores/df_wapo_cls.csv')\n"
      ],
      "metadata": {
        "id": "a2CZq1ZK8oW4"
      },
      "execution_count": null,
      "outputs": []
    },
    {
      "cell_type": "code",
      "source": [
        "clean_df = pd.read_csv('/content/drive/Shareddrives/PulseofPolicy_data/bills_data/115th_clean.csv')\n",
        "\n",
        "clean_df.columns\n",
        "\n",
        "clean_df = clean_df.loc[((clean_df.loc[:, 'date'] >= '2017-01-01')\n",
        "                    & (clean_df.loc[:, 'date'] < '2017-11-01')\n",
        "            ), :]\n",
        "\n",
        "clean_df = clean_df.loc[:, ['bill_id', 'bill_slug', 'number', 'title', 'new_index', 'date']]"
      ],
      "metadata": {
        "id": "7oQmZCc5jsJ8"
      },
      "execution_count": null,
      "outputs": []
    },
    {
      "cell_type": "code",
      "source": [
        "#########################################################\n",
        "#   Following can be run before or after calculations   #\n",
        "#########################################################"
      ],
      "metadata": {
        "id": "EwT3tp5mliQk"
      },
      "execution_count": null,
      "outputs": []
    },
    {
      "cell_type": "code",
      "source": [
        "fox_cos_meanmean.columns"
      ],
      "metadata": {
        "id": "lXfp_kFz_cz8"
      },
      "execution_count": null,
      "outputs": []
    },
    {
      "cell_type": "code",
      "source": [
        "wapo_cos_meanmean.head(1)"
      ],
      "metadata": {
        "id": "Bf3hvxGiKf47"
      },
      "execution_count": null,
      "outputs": []
    },
    {
      "cell_type": "code",
      "source": [
        "wapo_cos_meanmax.head(1)"
      ],
      "metadata": {
        "id": "8lwFk0V-Kclv"
      },
      "execution_count": null,
      "outputs": []
    },
    {
      "cell_type": "code",
      "source": [
        "nytimes_cos_meanmean.head(1)"
      ],
      "metadata": {
        "id": "tiFCB60MKYVz"
      },
      "execution_count": null,
      "outputs": []
    },
    {
      "cell_type": "code",
      "source": [
        "nytimes_cos_meanmax.head(1)"
      ],
      "metadata": {
        "id": "ZK2QSUiCKT0K"
      },
      "execution_count": null,
      "outputs": []
    },
    {
      "cell_type": "code",
      "source": [
        "nytimes_cos_meanmean.head(1)"
      ],
      "metadata": {
        "id": "hFoUsD2wKP5K"
      },
      "execution_count": null,
      "outputs": []
    },
    {
      "cell_type": "code",
      "source": [
        "breitbart_cos_meanmax.head(1)"
      ],
      "metadata": {
        "id": "Kz68T4YeJ8nz"
      },
      "execution_count": null,
      "outputs": []
    },
    {
      "cell_type": "code",
      "source": [
        "breitbart_cos_meanmean.head(1)"
      ],
      "metadata": {
        "id": "dDdf9AlKJ2Kk"
      },
      "execution_count": null,
      "outputs": []
    },
    {
      "cell_type": "code",
      "source": [
        "fox_cos_meanmax.head(1)"
      ],
      "metadata": {
        "id": "JjIp92EJJv-E"
      },
      "execution_count": null,
      "outputs": []
    },
    {
      "cell_type": "code",
      "source": [
        "################################\n",
        "#   Calculations and Merging   #\n",
        "################################"
      ],
      "metadata": {
        "id": "CP4T2MG0l4zW"
      },
      "execution_count": null,
      "outputs": []
    },
    {
      "cell_type": "code",
      "source": [
        "fox_cos_meanmean.drop('Unnamed: 0', inplace = True, axis=1)\n",
        "fox_cos_meanmean.loc[:, 'mean_fox_meanmean'] = fox_cos_meanmean.drop(['bill_index', 'new_index'], axis=1).mean(axis=1)\n",
        "fox_cos_meanmean.loc[:, 'median_fox_meanmean'] = fox_cos_meanmean.drop(['bill_index', 'new_index'], axis=1).median(axis=1)\n",
        "fox_cos_meanmean.loc[:, 'standard_dev_fox_meanmean'] = fox_cos_meanmean.drop(['bill_index', 'new_index'], axis=1).std(axis=1)\n",
        "fox_cos_meanmean.loc[:, '25_percentiles_fox_meanmean'] = fox_cos_meanmean.drop(['bill_index', 'new_index'], axis=1).quantile(0.25, axis=1)\n",
        "fox_cos_meanmean.loc[:, '75_percentiles_fox_meanmean'] = fox_cos_meanmean.drop(['bill_index', 'new_index'], axis=1).quantile(0.75, axis=1)\n",
        "fox_cos_meanmean.loc[:, '90_percentiles_fox_meanmean'] = fox_cos_meanmean.drop(['bill_index', 'new_index'], axis=1).quantile(0.9, axis=1)\n",
        "fox_cos_meanmean.loc[:, '95_percentiles_fox_meanmean'] = fox_cos_meanmean.drop(['bill_index', 'new_index'], axis=1).quantile(0.95, axis=1)\n",
        "fox_cos_meanmean.loc[:, '99_percentiles_fox_meanmean'] = fox_cos_meanmean.drop(['bill_index', 'new_index'], axis=1).quantile(0.99, axis=1)\n",
        "fox_cos_meanmean.loc[:, 'max_fox_meanmean'] = fox_cos_meanmean.drop(['bill_index', 'new_index'], axis=1).max(axis=1)\n",
        "fox_cos_meanmean.loc[:, 'min_fox_meanmean'] = fox_cos_meanmean.drop(['bill_index', 'new_index'], axis=1).min(axis=1)\n",
        "fox_cos_meanmean = fox_cos_meanmean.loc[:, ['bill_index', 'new_index', 'mean_fox_meanmean', 'median_fox_meanmean', 'standard_dev_fox_meanmean', '25_percentiles_fox_meanmean', '75_percentiles_fox_meanmean', '90_percentiles_fox_meanmean', '95_percentiles_fox_meanmean', '99_percentiles_fox_meanmean', 'max_fox_meanmean', 'min_fox_meanmean']]\n",
        "fox_cos_meanmean.to_csv('/content/drive/Shareddrives/PulseofPolicy_data/text_features/df_fox_meanmean.csv', index=False)\n",
        "\n",
        "fox_cos_meanmean.drop(['bill_index'], inplace=True, axis=1)\n",
        "meanmean_feature_df = pd.merge(clean_df.loc[:, ['bill_id', 'bill_slug', 'number', 'title', 'new_index']], fox_cos_meanmean, on='new_index', how='left')"
      ],
      "metadata": {
        "id": "yBHnyu0z--jA"
      },
      "execution_count": null,
      "outputs": []
    },
    {
      "cell_type": "code",
      "source": [
        "meanmean_feature_df.head(5)"
      ],
      "metadata": {
        "id": "g48sCaY_sF-0"
      },
      "execution_count": null,
      "outputs": []
    },
    {
      "cell_type": "code",
      "source": [
        "meanmean_feature_df.columns"
      ],
      "metadata": {
        "id": "MbRkCgEgtLL4"
      },
      "execution_count": null,
      "outputs": []
    },
    {
      "cell_type": "code",
      "source": [
        "fox_cos_meanmax.drop('Unnamed: 0' , inplace = True, axis=1)\n",
        "fox_cos_meanmax.loc[:, 'mean_fox_meanmax'] = fox_cos_meanmax.drop(['bill_index', 'new_index'], axis=1).mean(axis=1)\n",
        "fox_cos_meanmax.loc[:, 'median_fox_meanmax'] = fox_cos_meanmax.drop(['bill_index', 'new_index'], axis=1).median(axis=1)\n",
        "fox_cos_meanmax.loc[:, 'standard_dev_fox_meanmax'] = fox_cos_meanmax.drop(['bill_index', 'new_index'], axis=1).std(axis=1)\n",
        "fox_cos_meanmax.loc[:, '25_percentiles_fox_meanmax'] = fox_cos_meanmax.drop(['bill_index', 'new_index'], axis=1).quantile(0.25, axis=1)\n",
        "fox_cos_meanmax.loc[:, '75_percentiles_fox_meanmax'] = fox_cos_meanmax.drop(['bill_index', 'new_index'], axis=1).quantile(0.75, axis=1)\n",
        "fox_cos_meanmax.loc[:, '90_percentiles_fox_meanmax'] = fox_cos_meanmax.drop(['bill_index', 'new_index'], axis=1).quantile(0.9, axis=1)\n",
        "fox_cos_meanmax.loc[:, '95_percentiles_fox_meanmax'] = fox_cos_meanmax.drop(['bill_index', 'new_index'], axis=1).quantile(0.95, axis=1)\n",
        "fox_cos_meanmax.loc[:, '99_percentiles_fox_meanmax'] = fox_cos_meanmax.drop(['bill_index', 'new_index'], axis=1).quantile(0.99, axis=1)\n",
        "fox_cos_meanmax.loc[:, 'max_fox_meanmax'] = fox_cos_meanmax.drop(['bill_index', 'new_index'], axis=1).max(axis=1)\n",
        "fox_cos_meanmax.loc[:, 'min_fox_meanmax'] = fox_cos_meanmax.drop(['bill_index', 'new_index'], axis=1).min(axis=1)\n",
        "fox_cos_meanmax = fox_cos_meanmax.loc[:, ['bill_index', 'new_index', 'mean_fox_meanmax', 'median_fox_meanmax', 'standard_dev_fox_meanmax', '25_percentiles_fox_meanmax', '75_percentiles_fox_meanmax', '90_percentiles_fox_meanmax', '95_percentiles_fox_meanmax', '99_percentiles_fox_meanmax', 'max_fox_meanmax', 'min_fox_meanmax']]\n",
        "fox_cos_meanmax.to_csv('/content/drive/Shareddrives/PulseofPolicy_data/text_features/df_fox_meanmax.csv', index=False)\n",
        "\n",
        "fox_cos_meanmax.drop(['bill_index'], inplace=True, axis=1)\n",
        "meanmax_feature_df = pd.merge(clean_df.loc[:, ['bill_id', 'bill_slug', 'number', 'title', 'new_index']], fox_cos_meanmax, on='new_index', how='left')"
      ],
      "metadata": {
        "id": "34Hx7vu1_IzG"
      },
      "execution_count": null,
      "outputs": []
    },
    {
      "cell_type": "code",
      "source": [
        "meanmax_feature_df.head(5)"
      ],
      "metadata": {
        "id": "k3Vh5f0fsWJn"
      },
      "execution_count": null,
      "outputs": []
    },
    {
      "cell_type": "code",
      "source": [
        "breitbart_cos_meanmean.drop('Unnamed: 0' , inplace = True, axis=1)\n",
        "breitbart_cos_meanmean.loc[:, 'mean_breitbart_meanmean'] = breitbart_cos_meanmean.drop(['bill_index', 'new_index'], axis=1).mean(axis=1)\n",
        "breitbart_cos_meanmean.loc[:, 'median_breitbart_meanmean'] = breitbart_cos_meanmean.drop(['bill_index', 'new_index'], axis=1).median(axis=1)\n",
        "breitbart_cos_meanmean.loc[:, 'standard_dev_breitbart_meanmean'] = breitbart_cos_meanmean.drop(['bill_index', 'new_index'], axis=1).std(axis=1)\n",
        "breitbart_cos_meanmean.loc[:, '25_percentiles_breitbart_meanmean'] = breitbart_cos_meanmean.drop(['bill_index', 'new_index'], axis=1).quantile(0.25, axis=1)\n",
        "breitbart_cos_meanmean.loc[:, '75_percentiles_breitbart_meanmean'] = breitbart_cos_meanmean.drop(['bill_index', 'new_index'], axis=1).quantile(0.75, axis=1)\n",
        "breitbart_cos_meanmean.loc[:, '90_percentiles_breitbart_meanmean'] = breitbart_cos_meanmean.drop(['bill_index', 'new_index'], axis=1).quantile(0.90, axis=1)\n",
        "breitbart_cos_meanmean.loc[:, '95_percentiles_breitbart_meanmean'] = breitbart_cos_meanmean.drop(['bill_index', 'new_index'], axis=1).quantile(0.95, axis=1)\n",
        "breitbart_cos_meanmean.loc[:, '99_percentiles_breitbart_meanmean'] = breitbart_cos_meanmean.drop(['bill_index', 'new_index'], axis=1).quantile(0.99, axis=1)\n",
        "breitbart_cos_meanmean.loc[:, 'max_breitbart_meanmean'] = breitbart_cos_meanmean.drop(['bill_index', 'new_index'], axis=1).max(axis=1)\n",
        "breitbart_cos_meanmean.loc[:, 'min_breitbart_meanmean'] = breitbart_cos_meanmean.drop(['bill_index', 'new_index'], axis=1).min(axis=1)\n",
        "breitbart_cos_meanmean = breitbart_cos_meanmean.loc[:, ['bill_index', 'new_index', 'mean_breitbart_meanmean', 'median_breitbart_meanmean', 'standard_dev_breitbart_meanmean', '25_percentiles_breitbart_meanmean', '75_percentiles_breitbart_meanmean', '90_percentiles_breitbart_meanmean', '95_percentiles_breitbart_meanmean', '99_percentiles_breitbart_meanmean', 'max_breitbart_meanmean', 'min_breitbart_meanmean']]\n",
        "breitbart_cos_meanmean.to_csv('/content/drive/Shareddrives/PulseofPolicy_data/text_features/df_breitbart_meanmean.csv', index=False)\n",
        "\n",
        "breitbart_cos_meanmean.drop(['bill_index'], inplace=True, axis=1)\n",
        "meanmean_feature_df = pd.merge(meanmean_feature_df, breitbart_cos_meanmean, on='new_index', how='left')"
      ],
      "metadata": {
        "id": "VItWav7vG2Gp"
      },
      "execution_count": null,
      "outputs": []
    },
    {
      "cell_type": "code",
      "source": [
        "meanmean_feature_df.columns"
      ],
      "metadata": {
        "id": "hha0CeLgsUx8"
      },
      "execution_count": null,
      "outputs": []
    },
    {
      "cell_type": "code",
      "source": [
        "breitbart_cos_meanmax.drop('Unnamed: 0' , inplace = True, axis=1)\n",
        "breitbart_cos_meanmax.loc[:, 'mean_breitbart_meanmax'] = breitbart_cos_meanmax.drop(['bill_index', 'new_index'], axis=1).mean(axis=1)\n",
        "breitbart_cos_meanmax.loc[:, 'median_breitbart_meanmax'] = breitbart_cos_meanmax.drop(['bill_index', 'new_index'], axis=1).median(axis=1)\n",
        "breitbart_cos_meanmax.loc[:, 'standard_dev_breitbart_meanmax'] = breitbart_cos_meanmax.drop(['bill_index', 'new_index'], axis=1).std(axis=1)\n",
        "breitbart_cos_meanmax.loc[:, '25_percentiles_breitbart_meanmax'] = breitbart_cos_meanmax.drop(['bill_index', 'new_index'], axis=1).quantile(0.25, axis=1)\n",
        "breitbart_cos_meanmax.loc[:, '75_percentiles_breitbart_meanmax'] = breitbart_cos_meanmax.drop(['bill_index', 'new_index'], axis=1).quantile(0.75, axis=1)\n",
        "breitbart_cos_meanmax.loc[:, '90_percentiles_breitbart_meanmax'] = breitbart_cos_meanmax.drop(['bill_index', 'new_index'], axis=1).quantile(0.9, axis=1)\n",
        "breitbart_cos_meanmax.loc[:, '95_percentiles_breitbart_meanmax'] = breitbart_cos_meanmax.drop(['bill_index', 'new_index'], axis=1).quantile(0.95, axis=1)\n",
        "breitbart_cos_meanmax.loc[:, '99_percentiles_breitbart_meanmax'] = breitbart_cos_meanmax.drop(['bill_index', 'new_index'], axis=1).quantile(0.99, axis=1)\n",
        "breitbart_cos_meanmax.loc[:, 'max_breitbart_meanmax'] = breitbart_cos_meanmax.drop(['bill_index', 'new_index'], axis=1).max(axis=1)\n",
        "breitbart_cos_meanmax.loc[:, 'min_breitbart_meanmax'] = breitbart_cos_meanmax.drop(['bill_index', 'new_index'], axis=1).min(axis=1)\n",
        "breitbart_cos_meanmax = breitbart_cos_meanmax.loc[:, ['bill_index', 'new_index', 'mean_breitbart_meanmax', 'median_breitbart_meanmax', 'standard_dev_breitbart_meanmax', '25_percentiles_breitbart_meanmax', '75_percentiles_breitbart_meanmax', '90_percentiles_breitbart_meanmax', '95_percentiles_breitbart_meanmax', '99_percentiles_breitbart_meanmax', 'max_breitbart_meanmax', 'min_breitbart_meanmax']]\n",
        "breitbart_cos_meanmax.to_csv('/content/drive/Shareddrives/PulseofPolicy_data/text_features/df_breitbart_meanmax.csv', index=False)\n",
        "\n",
        "breitbart_cos_meanmax.drop(['bill_index'], inplace=True, axis=1)\n",
        "meanmax_feature_df = pd.merge(meanmax_feature_df, breitbart_cos_meanmax, on='new_index', how='left')"
      ],
      "metadata": {
        "id": "YWWX2JXVIUjn"
      },
      "execution_count": null,
      "outputs": []
    },
    {
      "cell_type": "code",
      "source": [
        "meanmax_feature_df.columns"
      ],
      "metadata": {
        "id": "EpeMXZDrsRWU"
      },
      "execution_count": null,
      "outputs": []
    },
    {
      "cell_type": "code",
      "source": [
        "nytimes_cos_meanmean.drop('Unnamed: 0' , inplace = True, axis=1)\n",
        "nytimes_cos_meanmean.loc[:, 'mean_nytimes_meanmean'] = nytimes_cos_meanmean.drop(['bill_index', 'new_index'], axis=1).mean(axis=1)\n",
        "nytimes_cos_meanmean.loc[:, 'median_nytimes_meanmean'] = nytimes_cos_meanmean.drop(['bill_index', 'new_index'], axis=1).median(axis=1)\n",
        "nytimes_cos_meanmean.loc[:, 'standard_dev_nytimes_meanmean'] = nytimes_cos_meanmean.drop(['bill_index', 'new_index'], axis=1).std(axis=1)\n",
        "nytimes_cos_meanmean.loc[:, '25_percentiles_nytimes_meanmean'] = nytimes_cos_meanmean.drop(['bill_index', 'new_index'], axis=1).quantile(0.25, axis=1)\n",
        "nytimes_cos_meanmean.loc[:, '75_percentiles_nytimes_meanmean'] = nytimes_cos_meanmean.drop(['bill_index', 'new_index'], axis=1).quantile(0.75, axis=1)\n",
        "nytimes_cos_meanmean.loc[:, '90_percentiles_nytimes_meanmean'] = nytimes_cos_meanmean.drop(['bill_index', 'new_index'], axis=1).quantile(0.9, axis=1)\n",
        "nytimes_cos_meanmean.loc[:, '95_percentiles_nytimes_meanmean'] = nytimes_cos_meanmean.drop(['bill_index', 'new_index'], axis=1).quantile(0.95, axis=1)\n",
        "nytimes_cos_meanmean.loc[:, '99_percentiles_nytimes_meanmean'] = nytimes_cos_meanmean.drop(['bill_index', 'new_index'], axis=1).quantile(0.99, axis=1)\n",
        "nytimes_cos_meanmean.loc[:, 'max_nytimes_meanmean'] = nytimes_cos_meanmean.drop(['bill_index', 'new_index'], axis=1).max(axis=1)\n",
        "nytimes_cos_meanmean.loc[:, 'min_nytimes_meanmean'] = nytimes_cos_meanmean.drop(['bill_index', 'new_index'], axis=1).min(axis=1)\n",
        "nytimes_cos_meanmean = nytimes_cos_meanmean.loc[:, ['bill_index', 'new_index', 'mean_nytimes_meanmean', 'median_nytimes_meanmean', 'standard_dev_nytimes_meanmean', '25_percentiles_nytimes_meanmean', '75_percentiles_nytimes_meanmean', '90_percentiles_nytimes_meanmean', '95_percentiles_nytimes_meanmean', '99_percentiles_nytimes_meanmean', 'max_nytimes_meanmean', 'min_nytimes_meanmean']]\n",
        "nytimes_cos_meanmean.to_csv('/content/drive/Shareddrives/PulseofPolicy_data/text_features/df_nytimes_meanmean.csv', index=False)\n",
        "\n",
        "nytimes_cos_meanmean.drop(['bill_index'], inplace=True, axis=1)\n",
        "meanmean_feature_df = pd.merge(meanmean_feature_df, nytimes_cos_meanmean, on='new_index', how='left')"
      ],
      "metadata": {
        "id": "5dsPkdxy_JEf"
      },
      "execution_count": null,
      "outputs": []
    },
    {
      "cell_type": "code",
      "source": [
        "nytimes_cos_meanmax.drop('Unnamed: 0' , inplace = True, axis=1)\n",
        "nytimes_cos_meanmax.loc[:, 'mean_nytimes_meanmax'] = nytimes_cos_meanmax.drop(['bill_index', 'new_index'], axis=1).mean(axis=1)\n",
        "nytimes_cos_meanmax.loc[:, 'median_nytimes_meanmax'] = nytimes_cos_meanmax.drop(['bill_index', 'new_index'], axis=1).median(axis=1)\n",
        "nytimes_cos_meanmax.loc[:, 'standard_dev_nytimes_meanmax'] = nytimes_cos_meanmax.drop(['bill_index', 'new_index'], axis=1).std(axis=1)\n",
        "nytimes_cos_meanmax.loc[:, '25_percentiles_nytimes_meanmax'] = nytimes_cos_meanmax.drop(['bill_index', 'new_index'], axis=1).quantile(0.25, axis=1)\n",
        "nytimes_cos_meanmax.loc[:, '75_percentiles_nytimes_meanmax'] = nytimes_cos_meanmax.drop(['bill_index', 'new_index'], axis=1).quantile(0.75, axis=1)\n",
        "nytimes_cos_meanmax.loc[:, '90_percentiles_nytimes_meanmax'] = nytimes_cos_meanmax.drop(['bill_index', 'new_index'], axis=1).quantile(0.90, axis=1)\n",
        "nytimes_cos_meanmax.loc[:, '95_percentiles_nytimes_meanmax'] = nytimes_cos_meanmax.drop(['bill_index', 'new_index'], axis=1).quantile(0.95, axis=1)\n",
        "nytimes_cos_meanmax.loc[:, '99_percentiles_nytimes_meanmax'] = nytimes_cos_meanmax.drop(['bill_index', 'new_index'], axis=1).quantile(0.99, axis=1)\n",
        "nytimes_cos_meanmax.loc[:, 'max_nytimes_meanmax'] = nytimes_cos_meanmax.drop(['bill_index', 'new_index'], axis=1).max(axis=1)\n",
        "nytimes_cos_meanmax.loc[:, 'min_nytimes_meanmax'] = nytimes_cos_meanmax.drop(['bill_index', 'new_index'], axis=1).min(axis=1)\n",
        "nytimes_cos_meanmax = nytimes_cos_meanmax.loc[:, ['bill_index', 'new_index', 'mean_nytimes_meanmax', 'median_nytimes_meanmax', 'standard_dev_nytimes_meanmax', '25_percentiles_nytimes_meanmax', '75_percentiles_nytimes_meanmax', '90_percentiles_nytimes_meanmax', '95_percentiles_nytimes_meanmax', '99_percentiles_nytimes_meanmax', 'max_nytimes_meanmax', 'min_nytimes_meanmax']]\n",
        "nytimes_cos_meanmax.to_csv('/content/drive/Shareddrives/PulseofPolicy_data/text_features/df_nytimes_meanmax.csv', index=False)\n",
        "\n",
        "nytimes_cos_meanmax.drop(['bill_index'], inplace=True, axis=1)\n",
        "meanmax_feature_df = pd.merge(meanmax_feature_df, nytimes_cos_meanmax, on='new_index', how='left')"
      ],
      "metadata": {
        "id": "5M25kjnCFNlf"
      },
      "execution_count": null,
      "outputs": []
    },
    {
      "cell_type": "code",
      "source": [
        "wapo_cos_meanmean.drop('Unnamed: 0' , inplace = True, axis=1)\n",
        "wapo_cos_meanmean.loc[:, 'mean_wapo_meanmean'] = wapo_cos_meanmean.drop(['bill_index', 'new_index'], axis=1).mean(axis=1)\n",
        "wapo_cos_meanmean.loc[:, 'median_wapo_meanmean'] = wapo_cos_meanmean.drop(['bill_index', 'new_index'], axis=1).median(axis=1)\n",
        "wapo_cos_meanmean.loc[:, 'standard_dev_wapo_meanmean'] = wapo_cos_meanmean.drop(['bill_index', 'new_index'], axis=1).std(axis=1)\n",
        "wapo_cos_meanmean.loc[:, '25_percentiles_wapo_meanmean'] = wapo_cos_meanmean.drop(['bill_index', 'new_index'], axis=1).quantile(0.25, axis=1)\n",
        "wapo_cos_meanmean.loc[:, '75_percentiles_wapo_meanmean'] = wapo_cos_meanmean.drop(['bill_index', 'new_index'], axis=1).quantile(0.75, axis=1)\n",
        "wapo_cos_meanmean.loc[:, '90_percentiles_wapo_meanmean'] = wapo_cos_meanmean.drop(['bill_index', 'new_index'], axis=1).quantile(0.9, axis=1)\n",
        "wapo_cos_meanmean.loc[:, '95_percentiles_wapo_meanmean'] = wapo_cos_meanmean.drop(['bill_index', 'new_index'], axis=1).quantile(0.95, axis=1)\n",
        "wapo_cos_meanmean.loc[:, '99_percentiles_wapo_meanmean'] = wapo_cos_meanmean.drop(['bill_index', 'new_index'], axis=1).quantile(0.99, axis=1)\n",
        "wapo_cos_meanmean.loc[:, 'max_wapo_meanmean'] = wapo_cos_meanmean.drop(['bill_index', 'new_index'], axis=1).max(axis=1)\n",
        "wapo_cos_meanmean.loc[:, 'min_wapo_meanmean'] = wapo_cos_meanmean.drop(['bill_index', 'new_index'], axis=1).min(axis=1)\n",
        "wapo_cos_meanmean = wapo_cos_meanmean.loc[:, ['bill_index', 'new_index', 'mean_wapo_meanmean', 'median_wapo_meanmean', 'standard_dev_wapo_meanmean', '25_percentiles_wapo_meanmean', '75_percentiles_wapo_meanmean', '90_percentiles_wapo_meanmean', '95_percentiles_wapo_meanmean', '99_percentiles_wapo_meanmean', 'max_wapo_meanmean', 'min_wapo_meanmean']]\n",
        "wapo_cos_meanmean.to_csv('/content/drive/Shareddrives/PulseofPolicy_data/text_features/df_wapo_meanmean.csv', index=False)\n",
        "\n",
        "wapo_cos_meanmean.drop(['bill_index'], inplace=True, axis=1)\n",
        "meanmean_feature_df = pd.merge(meanmean_feature_df, wapo_cos_meanmean, on='new_index', how='left')"
      ],
      "metadata": {
        "id": "yBinj3-X_JSB"
      },
      "execution_count": null,
      "outputs": []
    },
    {
      "cell_type": "code",
      "source": [
        "wapo_cos_meanmax.drop('Unnamed: 0' , inplace = True, axis=1)\n",
        "wapo_cos_meanmax.loc[:, 'mean_wapo_meanmax'] = wapo_cos_meanmax.drop(['bill_index', 'new_index'], axis=1).mean(axis=1)\n",
        "wapo_cos_meanmax.loc[:, 'median_wapo_meanmax'] = wapo_cos_meanmax.drop(['bill_index', 'new_index'], axis=1).median(axis=1)\n",
        "wapo_cos_meanmax.loc[:, 'standard_dev_wapo_meanmax'] = wapo_cos_meanmax.drop(['bill_index', 'new_index'], axis=1).std(axis=1)\n",
        "wapo_cos_meanmax.loc[:, '25_percentiles_wapo_meanmax'] = wapo_cos_meanmax.drop(['bill_index', 'new_index'], axis=1).quantile(0.25, axis=1)\n",
        "wapo_cos_meanmax.loc[:, '75_percentiles_wapo_meanmax'] = wapo_cos_meanmax.drop(['bill_index', 'new_index'], axis=1).quantile(0.75, axis=1)\n",
        "wapo_cos_meanmax.loc[:, '90_percentiles_wapo_meanmax'] = wapo_cos_meanmax.drop(['bill_index', 'new_index'], axis=1).quantile(0.9, axis=1)\n",
        "wapo_cos_meanmax.loc[:, '95_percentiles_wapo_meanmax'] = wapo_cos_meanmax.drop(['bill_index', 'new_index'], axis=1).quantile(0.95, axis=1)\n",
        "wapo_cos_meanmax.loc[:, '99_percentiles_wapo_meanmax'] = wapo_cos_meanmax.drop(['bill_index', 'new_index'], axis=1).quantile(0.99, axis=1)\n",
        "wapo_cos_meanmax.loc[:, 'max_wapo_meanmax'] = wapo_cos_meanmax.drop(['bill_index', 'new_index'], axis=1).max(axis=1)\n",
        "wapo_cos_meanmax.loc[:, 'min_wapo_meanmax'] = wapo_cos_meanmax.drop(['bill_index', 'new_index'], axis=1).min(axis=1)\n",
        "wapo_cos_meanmax = wapo_cos_meanmax.loc[:, ['bill_index', 'new_index', 'mean_wapo_meanmax', 'median_wapo_meanmax', 'standard_dev_wapo_meanmax', '25_percentiles_wapo_meanmax', '75_percentiles_wapo_meanmax', '90_percentiles_wapo_meanmax', '95_percentiles_wapo_meanmax', '99_percentiles_wapo_meanmax', 'max_wapo_meanmax', 'min_wapo_meanmax']]\n",
        "wapo_cos_meanmax.to_csv('/content/drive/Shareddrives/PulseofPolicy_data/text_features/df_wapo_meanmax.csv', index=False)\n",
        "\n",
        "wapo_cos_meanmax.drop(['bill_index'], inplace=True, axis=1)\n",
        "meanmax_feature_df = pd.merge(meanmax_feature_df, wapo_cos_meanmax, on='new_index', how='left')"
      ],
      "metadata": {
        "id": "RAb1BtVU_Jwo"
      },
      "execution_count": null,
      "outputs": []
    },
    {
      "cell_type": "code",
      "source": [
        "# meanmean_feature_df.to_csv('/content/drive/Shareddrives/PulseofPolicy_data/text_features/PABLO_MEANMEAN_FEATURES.csv', index=False)"
      ],
      "metadata": {
        "id": "EXClnbbi_J_E"
      },
      "execution_count": null,
      "outputs": []
    },
    {
      "cell_type": "code",
      "source": [
        "meanmean_feature_df.to_csv('/content/drive/Shareddrives/PulseofPolicy_data/text_features/JOHN_MEANMEAN_EXPLORE.csv', index=False)"
      ],
      "metadata": {
        "id": "3cGkozNN1u9Q"
      },
      "execution_count": null,
      "outputs": []
    },
    {
      "cell_type": "code",
      "source": [
        "meanmean_feature_df.columns"
      ],
      "metadata": {
        "id": "I9KGxP3D0UPX"
      },
      "execution_count": null,
      "outputs": []
    },
    {
      "cell_type": "code",
      "source": [
        "# meanmax_feature_df.to_csv('/content/drive/Shareddrives/PulseofPolicy_data/text_features/PABLO_MEANMAX_FEATURES.csv', index=False)"
      ],
      "metadata": {
        "id": "gGaXf3g0xaMN"
      },
      "execution_count": null,
      "outputs": []
    },
    {
      "cell_type": "code",
      "source": [
        "meanmean_feature_df.to_csv('/content/drive/Shareddrives/PulseofPolicy_data/text_features/JOHN_MEANMAX_EXPLORE.csv', index=False)"
      ],
      "metadata": {
        "id": "Xl3-xDc611jp"
      },
      "execution_count": null,
      "outputs": []
    },
    {
      "cell_type": "code",
      "source": [
        "meanmax_feature_df.columns"
      ],
      "metadata": {
        "id": "vGv3hd9k0Tfi"
      },
      "execution_count": null,
      "outputs": []
    }
  ]
}